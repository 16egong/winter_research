{
 "cells": [
  {
   "cell_type": "code",
   "execution_count": null,
   "metadata": {
    "ExecuteTime": {
     "end_time": "2020-03-13T05:36:12.946790Z",
     "start_time": "2020-03-13T05:36:12.931460Z"
    }
   },
   "outputs": [],
   "source": [
    "import sqlite3\n",
    "import pandas as pd"
   ]
  },
  {
   "cell_type": "code",
   "execution_count": null,
   "metadata": {
    "ExecuteTime": {
     "end_time": "2020-03-13T05:36:13.111689Z",
     "start_time": "2020-03-13T05:36:13.098099Z"
    }
   },
   "outputs": [],
   "source": [
    "# https://www.sqlitetutorial.net/sqlite-tutorial/sqlite-export-csv/"
   ]
  },
  {
   "cell_type": "code",
   "execution_count": null,
   "metadata": {
    "ExecuteTime": {
     "end_time": "2020-03-13T05:39:04.896592Z",
     "start_time": "2020-03-13T05:39:04.885046Z"
    }
   },
   "outputs": [],
   "source": [
    "trial_num = 1\n",
    "trial_type = 'control'\n",
    "posts_file = 'data/trial_' + str(trial_num) + '_' + trial_type + '_posts'+'.csv'\n",
    "notes_file = 'data/trial_' + str(trial_num) + '_' + trial_type + '_notes'+'.csv'"
   ]
  },
  {
   "cell_type": "markdown",
   "metadata": {},
   "source": [
    "# Save and seperate posts"
   ]
  },
  {
   "cell_type": "code",
   "execution_count": null,
   "metadata": {
    "ExecuteTime": {
     "end_time": "2020-03-13T05:39:06.111082Z",
     "start_time": "2020-03-13T05:39:06.078297Z"
    }
   },
   "outputs": [],
   "source": [
    "with open(posts_file, 'r') as f:\n",
    "    df = pd.read_csv(f)"
   ]
  },
  {
   "cell_type": "code",
   "execution_count": null,
   "metadata": {
    "ExecuteTime": {
     "end_time": "2020-03-13T05:39:52.568531Z",
     "start_time": "2020-03-13T05:39:52.518302Z"
    }
   },
   "outputs": [],
   "source": [
    "df"
   ]
  },
  {
   "cell_type": "code",
   "execution_count": null,
   "metadata": {
    "ExecuteTime": {
     "end_time": "2020-03-13T05:39:52.753720Z",
     "start_time": "2020-03-13T05:39:52.731832Z"
    }
   },
   "outputs": [],
   "source": [
    "english_convo = df[((df['room']==12))]"
   ]
  },
  {
   "cell_type": "code",
   "execution_count": null,
   "metadata": {
    "ExecuteTime": {
     "end_time": "2020-03-13T05:39:53.136552Z",
     "start_time": "2020-03-13T05:39:53.109776Z"
    }
   },
   "outputs": [],
   "source": [
    "with open(f'data/trial_{trial_num}_{trial_type}_phase_2.1_EN.csv', 'w') as f:\n",
    "    english_convo.to_csv(f)"
   ]
  },
  {
   "cell_type": "code",
   "execution_count": null,
   "metadata": {
    "ExecuteTime": {
     "end_time": "2020-03-13T05:39:53.445562Z",
     "start_time": "2020-03-13T05:39:53.429029Z"
    }
   },
   "outputs": [],
   "source": [
    "chinese_convo = df[((df['room']==34))]"
   ]
  },
  {
   "cell_type": "code",
   "execution_count": null,
   "metadata": {
    "ExecuteTime": {
     "end_time": "2020-03-13T05:39:53.724811Z",
     "start_time": "2020-03-13T05:39:53.699317Z"
    }
   },
   "outputs": [],
   "source": [
    "with open(f'data/trial_{trial_num}_{trial_type}_phase_2.1_CN.csv', 'w') as f:\n",
    "    chinese_convo.to_csv(f)"
   ]
  },
  {
   "cell_type": "code",
   "execution_count": null,
   "metadata": {
    "ExecuteTime": {
     "end_time": "2020-03-13T05:39:54.047184Z",
     "start_time": "2020-03-13T05:39:54.031211Z"
    }
   },
   "outputs": [],
   "source": [
    "all_convo = df[((df['room']==1234))]"
   ]
  },
  {
   "cell_type": "code",
   "execution_count": null,
   "metadata": {
    "ExecuteTime": {
     "end_time": "2020-03-13T05:39:54.556547Z",
     "start_time": "2020-03-13T05:39:54.539417Z"
    }
   },
   "outputs": [],
   "source": [
    "with open(f'data/trial_{trial_num}_{trial_type}_phase_4.1.csv', 'w') as f:\n",
    "    all_convo.to_csv(f)"
   ]
  },
  {
   "cell_type": "code",
   "execution_count": null,
   "metadata": {},
   "outputs": [],
   "source": []
  }
 ],
 "metadata": {
  "kernelspec": {
   "display_name": "Python 3",
   "language": "python",
   "name": "python3"
  },
  "language_info": {
   "codemirror_mode": {
    "name": "ipython",
    "version": 3
   },
   "file_extension": ".py",
   "mimetype": "text/x-python",
   "name": "python",
   "nbconvert_exporter": "python",
   "pygments_lexer": "ipython3",
   "version": "3.7.5"
  }
 },
 "nbformat": 4,
 "nbformat_minor": 4
}
