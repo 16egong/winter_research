{
 "cells": [
  {
   "cell_type": "code",
   "execution_count": 14,
   "metadata": {
    "ExecuteTime": {
     "end_time": "2020-03-09T19:57:24.277998Z",
     "start_time": "2020-03-09T19:57:24.267795Z"
    }
   },
   "outputs": [],
   "source": [
    "import sqlite3\n",
    "import pandas as pd\n"
   ]
  },
  {
   "cell_type": "code",
   "execution_count": 16,
   "metadata": {
    "ExecuteTime": {
     "end_time": "2020-03-09T19:57:41.609607Z",
     "start_time": "2020-03-09T19:57:41.563784Z"
    }
   },
   "outputs": [],
   "source": [
    "connection = sqlite3.connect(\"trial_1.1\")"
   ]
  },
  {
   "cell_type": "code",
   "execution_count": 17,
   "metadata": {
    "ExecuteTime": {
     "end_time": "2020-03-09T19:57:58.803795Z",
     "start_time": "2020-03-09T19:57:58.795310Z"
    }
   },
   "outputs": [],
   "source": [
    "cursor = connection.cursor()"
   ]
  },
  {
   "cell_type": "code",
   "execution_count": null,
   "metadata": {},
   "outputs": [],
   "source": [
    "# https://www.sqlitetutorial.net/sqlite-tutorial/sqlite-export-csv/"
   ]
  },
  {
   "cell_type": "code",
   "execution_count": 18,
   "metadata": {
    "ExecuteTime": {
     "end_time": "2020-03-09T19:59:37.977059Z",
     "start_time": "2020-03-09T19:59:37.926091Z"
    }
   },
   "outputs": [
    {
     "ename": "OperationalError",
     "evalue": "no such table: post",
     "output_type": "error",
     "traceback": [
      "\u001b[0;31m---------------------------------------------------------------------------\u001b[0m",
      "\u001b[0;31mOperationalError\u001b[0m                          Traceback (most recent call last)",
      "\u001b[0;32m<ipython-input-18-a5fa9bfb7edb>\u001b[0m in \u001b[0;36m<module>\u001b[0;34m\u001b[0m\n\u001b[1;32m      4\u001b[0m \u001b[0mcursor\u001b[0m \u001b[0;34m=\u001b[0m \u001b[0mconnection\u001b[0m\u001b[0;34m.\u001b[0m\u001b[0mcursor\u001b[0m\u001b[0;34m(\u001b[0m\u001b[0;34m)\u001b[0m\u001b[0;34m\u001b[0m\u001b[0;34m\u001b[0m\u001b[0m\n\u001b[1;32m      5\u001b[0m \u001b[0;31m# Execute the query\u001b[0m\u001b[0;34m\u001b[0m\u001b[0;34m\u001b[0m\u001b[0;34m\u001b[0m\u001b[0m\n\u001b[0;32m----> 6\u001b[0;31m \u001b[0mcursor\u001b[0m\u001b[0;34m.\u001b[0m\u001b[0mexecute\u001b[0m\u001b[0;34m(\u001b[0m\u001b[0;34m'select * from post'\u001b[0m\u001b[0;34m)\u001b[0m\u001b[0;34m\u001b[0m\u001b[0;34m\u001b[0m\u001b[0m\n\u001b[0m\u001b[1;32m      7\u001b[0m \u001b[0;31m# Get Header Names (without tuples)\u001b[0m\u001b[0;34m\u001b[0m\u001b[0;34m\u001b[0m\u001b[0;34m\u001b[0m\u001b[0m\n\u001b[1;32m      8\u001b[0m \u001b[0mcolnames\u001b[0m \u001b[0;34m=\u001b[0m \u001b[0;34m[\u001b[0m\u001b[0mdesc\u001b[0m\u001b[0;34m[\u001b[0m\u001b[0;36m0\u001b[0m\u001b[0;34m]\u001b[0m \u001b[0;32mfor\u001b[0m \u001b[0mdesc\u001b[0m \u001b[0;32min\u001b[0m \u001b[0mcursor\u001b[0m\u001b[0;34m.\u001b[0m\u001b[0mdescription\u001b[0m\u001b[0;34m]\u001b[0m\u001b[0;34m\u001b[0m\u001b[0;34m\u001b[0m\u001b[0m\n",
      "\u001b[0;31mOperationalError\u001b[0m: no such table: post"
     ]
    }
   ],
   "source": [
    "f = open('trial_1.1.csv', 'w')\n",
    "# Create a connection and get a cursor\n",
    "connection = sqlite3.connect('/trial_1.1')\n",
    "cursor = connection.cursor()\n",
    "# Execute the query\n",
    "cursor.execute('select * from post')\n",
    "# Get Header Names (without tuples)\n",
    "colnames = [desc[0] for desc in cursor.description]\n",
    "# Get data in batches\n",
    "while True:\n",
    "    # Read the data\n",
    "    df = pd.DataFrame(cursor.fetchall())\n",
    "    # We are done if there are no data\n",
    "    if len(df) == 0:\n",
    "        break\n",
    "    # Let us write to the file\n",
    "    else:\n",
    "        df.to_csv(f, header=colnames)\n",
    "\n",
    "# Clean up\n",
    "f.close()\n",
    "cursor.close()\n",
    "connection.close()"
   ]
  },
  {
   "cell_type": "code",
   "execution_count": 81,
   "metadata": {
    "ExecuteTime": {
     "end_time": "2020-03-09T22:18:13.648849Z",
     "start_time": "2020-03-09T22:18:13.612965Z"
    }
   },
   "outputs": [],
   "source": [
    "with open('data.csv', 'r') as f:\n",
    "    df = pd.read_csv(f)"
   ]
  },
  {
   "cell_type": "code",
   "execution_count": 82,
   "metadata": {
    "ExecuteTime": {
     "end_time": "2020-03-09T22:18:13.818979Z",
     "start_time": "2020-03-09T22:18:13.799919Z"
    }
   },
   "outputs": [],
   "source": [
    "df.loc[df.uid==1, 'username'] = \"Lei\""
   ]
  },
  {
   "cell_type": "code",
   "execution_count": 83,
   "metadata": {
    "ExecuteTime": {
     "end_time": "2020-03-09T22:18:13.992772Z",
     "start_time": "2020-03-09T22:18:13.974832Z"
    }
   },
   "outputs": [],
   "source": [
    "df.loc[df.uid==2, 'username'] = \"Xiao\""
   ]
  },
  {
   "cell_type": "code",
   "execution_count": 84,
   "metadata": {
    "ExecuteTime": {
     "end_time": "2020-03-09T22:18:14.156579Z",
     "start_time": "2020-03-09T22:18:14.137598Z"
    }
   },
   "outputs": [],
   "source": [
    "df.loc[df.uid==3, 'username'] = \"Evan\""
   ]
  },
  {
   "cell_type": "code",
   "execution_count": 85,
   "metadata": {
    "ExecuteTime": {
     "end_time": "2020-03-09T22:18:14.315620Z",
     "start_time": "2020-03-09T22:18:14.301532Z"
    }
   },
   "outputs": [],
   "source": [
    "df.loc[df.uid==2, 'username'] = \"Joey\""
   ]
  },
  {
   "cell_type": "code",
   "execution_count": 86,
   "metadata": {
    "ExecuteTime": {
     "end_time": "2020-03-09T22:18:14.496995Z",
     "start_time": "2020-03-09T22:18:14.465099Z"
    }
   },
   "outputs": [],
   "source": [
    "with open('pilot_study.csv', 'w') as f:\n",
    "    df.to_csv(f)"
   ]
  },
  {
   "cell_type": "code",
   "execution_count": 95,
   "metadata": {
    "ExecuteTime": {
     "end_time": "2020-03-09T22:20:01.881583Z",
     "start_time": "2020-03-09T22:20:01.859159Z"
    }
   },
   "outputs": [],
   "source": [
    "english_convo = df[((df['uid']==3) | (df['uid']==4))]"
   ]
  },
  {
   "cell_type": "code",
   "execution_count": 96,
   "metadata": {
    "ExecuteTime": {
     "end_time": "2020-03-09T22:20:02.411712Z",
     "start_time": "2020-03-09T22:20:02.382663Z"
    }
   },
   "outputs": [],
   "source": [
    "with open('english_pilot_study', 'w') as f:\n",
    "    english_convo.to_csv(f)"
   ]
  },
  {
   "cell_type": "code",
   "execution_count": 98,
   "metadata": {
    "ExecuteTime": {
     "end_time": "2020-03-09T22:20:45.566319Z",
     "start_time": "2020-03-09T22:20:45.547471Z"
    }
   },
   "outputs": [],
   "source": [
    "chinese_convo = df[((df['uid']==1) | (df['uid']==2))]"
   ]
  },
  {
   "cell_type": "code",
   "execution_count": 99,
   "metadata": {
    "ExecuteTime": {
     "end_time": "2020-03-09T22:20:46.396899Z",
     "start_time": "2020-03-09T22:20:46.354317Z"
    }
   },
   "outputs": [],
   "source": [
    "with open('chinese_pilot_study', 'w') as f:\n",
    "    chinese_convo.to_csv(f)"
   ]
  },
  {
   "cell_type": "code",
   "execution_count": null,
   "metadata": {},
   "outputs": [],
   "source": []
  }
 ],
 "metadata": {
  "kernelspec": {
   "display_name": "Python 3",
   "language": "python",
   "name": "python3"
  },
  "language_info": {
   "codemirror_mode": {
    "name": "ipython",
    "version": 3
   },
   "file_extension": ".py",
   "mimetype": "text/x-python",
   "name": "python",
   "nbconvert_exporter": "python",
   "pygments_lexer": "ipython3",
   "version": "3.7.5"
  }
 },
 "nbformat": 4,
 "nbformat_minor": 4
}
